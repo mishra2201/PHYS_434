{
 "cells": [
  {
   "cell_type": "code",
   "execution_count": 1,
   "id": "85e69446-8a21-42ac-8ae9-8b1bcb44f3c6",
   "metadata": {},
   "outputs": [],
   "source": [
    "import numpy as np \n",
    "import scipy.stats as stats\n",
    "import matplotlib.pyplot as plt\n",
    "%matplotlib inline"
   ]
  },
  {
   "attachments": {
    "4ce17e29-817e-49d8-9147-7edb3a912f8f.png": {
     "image/png": "[encoded data removed]"
    },
    "df7634be-fc3f-4b58-a2f5-9d0e79fa477d.png": {
     "image/png": "[encoded data removed]"
    }
   },
   "cell_type": "markdown",
   "id": "af74a1d3-e2e3-4f18-9adc-f4722a5bd115",
   "metadata": {},
   "source": [
    "We're going to briefly look at truth tables. As an example let's assume we have a 100 photos, some of birds and some of people. In a truth table you assume you can categorize the true answer—let's say you pay an undergraduate to sort the photos into birds and people. Then you want to have an automated sorting algorithm. However that works, whether it is by looking a the color at the center of photo or using a neural network (NN), it will also sort the photos but imperfectly. Given two sorts you can then arrange a truth table: <br>\n",
    "![image.png](attachment:df7634be-fc3f-4b58-a2f5-9d0e79fa477d.png) <br>\n",
    "There are 48 birds and 52 People (columns), and there are 8 miscategorizations. The NN called three of the birds people, and 5 of the people birds.<br>\n",
    "Let's say the above truth table is the current system, and you've developed a new algorithm (NA) with the following truth table: <br>\n",
    "![image.png](attachment:4ce17e29-817e-49d8-9147-7edb3a912f8f.png)\n",
    "\n",
    "1a) Which algorithm makes the fewest mistakes?\n",
    "\n",
    "1b) Which algorithm is better for the zoo? Explain.\n",
    "\n",
    "1c) During the pandemic the number of visitors plummets, and it is only the zoo keeper visiting. So instead of 52% of the photos taken at the aviary door being people, it is now only 1%. Make new truth tables for both algorithms.\n"
   ]
  },
  {
   "cell_type": "markdown",
   "id": "07f86594-c732-4ca0-a812-be95ed59071c",
   "metadata": {},
   "source": [
    "<b> 1. a) </b> "
   ]
  },
  {
   "cell_type": "markdown",
   "id": "84d825d2-aa64-4c61-8d36-c89ce9a3fc61",
   "metadata": {},
   "source": [
    "NN makes 5+3=8 mistakes while NA makes 1+11=12 mistakes. Thus, NN makes fewest mistakes."
   ]
  },
  {
   "cell_type": "markdown",
   "id": "24f9b124-d4f3-46e6-9386-dad08377008d",
   "metadata": {},
   "source": [
    "<b> 1. b) </b> "
   ]
  },
  {
   "cell_type": "markdown",
   "id": "72829edb-f03b-4280-83a4-5bc9e35ab85d",
   "metadata": {},
   "source": [
    "NN misidentifies 3 birds as persons and lets them escape. NA misidentifies only 1 bird as person. Thus, NA is beter for the zoo. "
   ]
  },
  {
   "cell_type": "markdown",
   "id": "e831977b-a628-4d3c-b4b1-5683c014eadd",
   "metadata": {},
   "source": [
    "<b> 1. c) </b> "
   ]
  },
  {
   "cell_type": "markdown",
   "id": "9f9bb0ea-c5a5-4a54-ae31-9d46f44904d0",
   "metadata": {},
   "source": [
    "Assuming we still take 100 photos, and only 1% is people. <br> \n",
    "<b> <u> NN </u> </b> <br>\n",
    "Previously, total # bird photos = 48 <br>\n",
    "fraction of birds misidentified as people= 3/48 = 1/16 <br>\n",
    "\n",
    "Now total # bird photos = 99 <br>\n",
    "fraction of birds misidentified as people= 3/48 = 1/16 <br>\n",
    "=> number of birds misidentified as people = 99*(1/16) = 99/16 <br><br>\n",
    "\n",
    "Previously, # human photos = 52 <br>\n",
    "fraction of humans misidentified as birds= 5/52  <br>\n",
    "Now, number of human photos = 1 <br>\n",
    "=> # misidentifications = (5/52)*1 = 5/52\n",
    "\n",
    "|     |<b> True Bird </b> | <b> True Person </b> | \n",
    "| --- | --- | --- |\n",
    "| NN Bird | 1485/16 | 5/52 |\n",
    "| NN Person | 99/16 | 47/52 |\n",
    "\n",
    "<b> <u> NA </u> </b> <br>\n",
    "Previously, total # bird photos = 48 <br>\n",
    "fraction of birds misidentified as people= 1/48 = 1/48 <br>\n",
    "\n",
    "Now total # bird photos = 99 <br>\n",
    "fraction of birds misidentified as people= 1/48  <br>\n",
    "=> number of birds misidentified as people = 99*(1/48) = 99/48 <br><br>\n",
    "\n",
    "Previously, # human photos = 52 <br>\n",
    "fraction of humans misidentified as birds= 11/52  <br>\n",
    "Now, number of human photos = 1 <br>\n",
    "=> # misidentifications = (11/52)*1 = 11/52\n",
    "\n",
    "|     |<b> True Bird </b> | <b> True Person </b> | \n",
    "| --- | --- | --- |\n",
    "| NA Bird | 4653/48 | 11/52 |\n",
    "| NA Person | 99/48 | 41/52 |\n"
   ]
  },
  {
   "cell_type": "markdown",
   "id": "525672a2-4ae0-4eda-be79-584fe65ae510",
   "metadata": {},
   "source": [
    "#### Problem 2 <br>\n",
    "2a) What is the pdf of the sum of two identical exponential distributions?\n",
    "\n",
    "2b) What is the pdf of the ratio of two zero-mean unity variance normal distributions  X1/X2 ?\n",
    "\n",
    "2c) So far we have looked at 1D probability distributions, but it is possible to have a multi-dimensional vector distribution. A simple first introduction is the 2D Guassian; it looks like a smeared spot. Mathematically this is given by  Xi^+Yj^  where both  X  and  Y  are drawn from 1D Gaussian distributions. If I measure the amplitude of this vector, what is its pdf? (Hint, the amplitude is always positive.)"
   ]
  },
  {
   "cell_type": "markdown",
   "id": "1519b6dd-fe0a-48ae-afc7-33cff10a0335",
   "metadata": {},
   "source": [
    "<b> 2. a) </b> <br>\n",
    "PDF of the sum of n identical exponential distributions with rate parameter β is a <b> gamma (n, β) </b> distribution with shape parameter n and rate parameter β. Since n is an integer, the gamma distribution is also a Erlang distribution. <br> In our case, n=2. <br>\n",
    "According to the [Wikipedia](https://towardsdatascience.com/sum-of-exponential-random-variables-b023b61f0c0f) page of Gamma functions, exponential distributions are special cases of the gamma distributions. If the shape parameter k is held fixed, the resulting one-parameter family of distributions is a natural exponential family. "
   ]
  },
  {
   "cell_type": "markdown",
   "id": "b3c0fd94-9597-4ab0-a3d7-da82b9c9a5f2",
   "metadata": {},
   "source": [
    "<b> 2. b) </b> <br> \n",
    "TAccording to this [WolframMathematica](https://mathworld.wolfram.com/NormalRatioDistribution.html) page,   PDF of the ratio of two zero-mean unity variance normal distributions X1/X2 is a <b> Cauchy distribution </b> with location parameter <br> $$ x_{0} = 0 $$  and half width at half maximum (scale parameter) $$ \\lambda = 1$$  The scale parameter is given by the ratio of variances of the distributions X1 and X2, which in this case is 1. <br>\n",
    "Just to double-check, I look at the [Cauchy distribution](https://en.wikipedia.org/wiki/Cauchy_distribution) definition and find that it is also defined as the distribution of the ratio of two independent normally distributed random variables with mean zero."
   ]
  },
  {
   "cell_type": "markdown",
   "id": "e16601d8-6056-4f35-bf18-815147cd7e64",
   "metadata": {},
   "source": [
    "<b> 2. c) <b> <br>"
   ]
  },
  {
   "cell_type": "markdown",
   "id": "e6dfc74b-ac01-44ec-87c9-3e38b3fbae08",
   "metadata": {},
   "source": [
    "The PDF of amplitude of a 2D Gaussian can only have positive values. This directs me to read about non-negative continuous distributions. I look at the Wikipedia page and find that pdf of amplitude of Gaussians of zero mean and sigma_squared varianve is <b> Rayleigh Distribution </b> with shape parameter sigma. "
   ]
  }
 ],
 "metadata": {
  "kernelspec": {
   "display_name": "Python 3",
   "language": "python",
   "name": "python3"
  },
  "language_info": {
   "codemirror_mode": {
    "name": "ipython",
    "version": 3
   },
   "file_extension": ".py",
   "mimetype": "text/x-python",
   "name": "python",
   "nbconvert_exporter": "python",
   "pygments_lexer": "ipython3",
   "version": "3.8.8"
  }
 },
 "nbformat": 4,
 "nbformat_minor": 5
}
