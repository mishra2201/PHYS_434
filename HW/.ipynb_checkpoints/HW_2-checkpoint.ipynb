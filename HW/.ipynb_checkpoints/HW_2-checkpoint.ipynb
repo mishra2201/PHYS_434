{
 "cells": [
  {
   "cell_type": "code",
   "execution_count": 1,
   "id": "a4bf7dab-765c-46b6-b543-daf601077de3",
   "metadata": {},
   "outputs": [],
   "source": [
    "import numpy as np \n",
    "import matplotlib.pyplot as plt\n",
    "from scipy import stats\n",
    "%matplotlib inline"
   ]
  },
  {
   "cell_type": "markdown",
   "id": "1d4bd67c-1779-4feb-85a3-0c7454cb134e",
   "metadata": {},
   "source": [
    "<b> 1. </b> "
   ]
  },
  {
   "cell_type": "markdown",
   "id": "f30d4677-3338-4637-9308-18ac5b99730e",
   "metadata": {},
   "source": [
    "\n",
    "P (sevens) is a lot more likely because it can be a result of many permutations whereas snake eyes is just one case out of a total of 36. \n",
    "P(snake eyes): = (1/6).(1/6) = 1/36 <br>\n",
    "> P (Seven): OR case \n",
    "\n",
    "| Dice 1 | Dice 2 | \n",
    "| --- | --- | \n",
    "| 1 | 6 | \n",
    "| 2 | 5 | \n",
    "| 3 | 4 | \n",
    "| 4 | 3 | \n",
    "| 5 | 2 | \n",
    "| 6 | 1 | \n",
    "\n",
    "> <b> Ratio </b> = P(snake)/ P(seven) = 1/6"
   ]
  },
  {
   "cell_type": "markdown",
   "id": "976ed7af-2d8a-4a1a-82e4-8fb50cb8218d",
   "metadata": {},
   "source": [
    "<b> 2. </b> <br>\n",
    "The outcomes of a dice roll are randomly distributed, with each outcome having a probability of 1/6. Thus, the outcome of n dice rolls is given by the convolution of probabilities. \n",
    "\n"
   ]
  },
  {
   "cell_type": "markdown",
   "id": "987d3968-3539-40fb-83fb-9cc2d6205ffd",
   "metadata": {},
   "source": [
    "sum of 2 six sided dice. <br>\n",
    "<b> Method 1: Counting </b> <br>\n",
    "min sum = 2 <br>\n",
    "max sum= 12 <br>\n",
    "Possible outcomes = 2,3,4,5,6,7,8,9,10,11,12\n",
    "\n",
    "| Dice 1 | Dice 2 | Sum | \n",
    "| --- | --- | --- | \n",
    "| 1 | 1 | 2 | \n",
    "| 1 | 2 | 3 |\n",
    "| 2 | 1 | 3 |\n",
    "| 2 | 2 | 4 |\n",
    "| 1 | 3 | 4 |\n",
    "| 3 | 1 | 4 |\n",
    "| 1 | 4 | 5 |\n",
    "| 2 | 3 | 5 |\n",
    "| 3 | 2 | 5 |\n",
    "| 4 | 1 | 5 |\n",
    "| 1 | 5 | 6 |\n",
    "| 2 | 4 | 6 |\n",
    "| 3 | 3 | 6 |\n",
    "| 4 | 2 | 6 |\n",
    "| 5 | 1 | 6 |\n",
    "| 1 | 6 | 7 |\n",
    "| 2 | 5 | 7 |\n",
    "| 3 | 4 | 7 |\n",
    "| 4 | 3 | 7 |\n",
    "| 5 | 2 | 7 |\n",
    "| 6 | 1 | 7 |\n",
    "| 2 | 6 | 8 |\n",
    "| 3 | 5 | 8 |\n",
    "| 4 | 4 | 8 |\n",
    "| 5 | 3 | 8 |\n",
    "| 6 | 2 | 8 |\n",
    "| 3 | 6 | 9 |\n",
    "| 4 | 5 | 9 |\n",
    "| 5 | 4 | 9 |\n",
    "| 6 | 3 | 9 |\n",
    "\n",
    "We see a pattern in the probabilities and can infer the rest of the values. <br>\n",
    "Here are the probabilities of the sum: <br>\n",
    "P(2) = 1/36 ; P(3) = 2/36 ; P(4) = 3/36 ; P(5) = 4/36 ; P(6) = 5/36 ; <br>\n",
    "P(7) = 6/36 ; P(8) = 5/36 ; P(9) = 4/36 ; P(10)= 3/36 ; P(11)= 2/36 ; P(12) = 1/36"
   ]
  },
  {
   "cell_type": "code",
   "execution_count": 5,
   "id": "1566dd3b-415a-4539-9649-b15d2a11ac57",
   "metadata": {},
   "outputs": [],
   "source": [
    "outputs=[2,3,3,4,4,4,5,5,5,5,6,6,6,6,6,7,7,7,7,7,7,8,8,8,8,8,9,9,9,9,10,10,10,11,11,12]\n",
    "y=outputs"
   ]
  },
  {
   "cell_type": "markdown",
   "id": "63efb68a-a430-4155-8327-2c47890d5a98",
   "metadata": {},
   "source": [
    "<b> Method 2 : Convolution </b>"
   ]
  },
  {
   "cell_type": "code",
   "execution_count": 6,
   "id": "09c4ae32-c98e-41d9-aeb8-e82d9101fb35",
   "metadata": {},
   "outputs": [
    {
     "data": {
      "text/plain": [
       "<matplotlib.legend.Legend at 0x7f35384ed910>"
      ]
     },
     "execution_count": 6,
     "metadata": {},
     "output_type": "execute_result"
    },
    {
     "data": {
      "image/png": "[encoded data removed]",
      "text/plain": [
       "<Figure size 432x288 with 1 Axes>"
      ]
     },
     "metadata": {
      "needs_background": "light"
     },
     "output_type": "display_data"
    }
   ],
   "source": [
    "# from fractions import Fraction\n",
    "P=[1/6]*6\n",
    "distribution=np.convolve(P,P)\n",
    "x=np.arange(2,13,1)\n",
    "plt.xticks(x)\n",
    "plt.bar(x,distribution,label=\"Method 2\")\n",
    "plt.xlabel(\"Sum\")\n",
    "plt.ylabel(\"Probability\")\n",
    "plt.title(\"Sum of 2 dice throws\")\n",
    "plt.legend()"
   ]
  },
  {
   "cell_type": "markdown",
   "id": "fc54e341-8ce7-49a4-81db-bed590216044",
   "metadata": {},
   "source": [
    "<b> 3. </b>"
   ]
  },
  {
   "cell_type": "code",
   "execution_count": 7,
   "id": "65d1bb05-4628-41a7-a451-eff57f2059c4",
   "metadata": {},
   "outputs": [
    {
     "name": "stdout",
     "output_type": "stream",
     "text": [
      "Method 2:\n",
      " [2, 3, 3, 4, 4, 4, 5, 5, 5, 5, 6, 6, 6, 6, 6, 7, 7, 7, 7, 7, 7, 8, 8, 8, 8, 8, 9, 9, 9, 9, 10, 10, 10, 11, 11, 12] \n",
      "\n",
      "Method 1:\n",
      " [2, 3, 3, 4, 4, 4, 5, 5, 5, 5, 6, 6, 6, 6, 6, 7, 7, 7, 7, 7, 7, 8, 8, 8, 8, 8, 9, 9, 9, 9, 10, 10, 10, 11, 11, 12]\n"
     ]
    }
   ],
   "source": [
    "sums=[2,3,4,5,6,7,8,9,10,11,12] #Possible sums of dice roll\n",
    "frequency=distribution*36       # Frequency of each sum\n",
    "output=[]\n",
    "\n",
    "for i in range(len(frequency)):  # Checking if we get the same outputs as the list y \n",
    "    lst= int(frequency[i])*[sums[i]]\n",
    "    for j in lst: \n",
    "        output.append(j)\n",
    "print (\"Method 2:\\n\",output,\"\\n\\nMethod 1:\\n\",y)"
   ]
  },
  {
   "cell_type": "markdown",
   "id": "7562450d-1635-478f-9fd5-744bf1264d8c",
   "metadata": {},
   "source": [
    "Both methods produce the same observation."
   ]
  },
  {
   "cell_type": "markdown",
   "id": "bf6fbf21-0882-4d9c-bd68-3aa05aa6c5cc",
   "metadata": {},
   "source": [
    "Variance is given by:\n",
    "$$ S^2 =  \\frac{\\sum (x_i - \\bar{x})^2}{n - 1} $$"
   ]
  },
  {
   "cell_type": "code",
   "execution_count": 8,
   "id": "d89d1750-a684-4825-82e7-a71d234cd5cf",
   "metadata": {},
   "outputs": [
    {
     "name": "stdout",
     "output_type": "stream",
     "text": [
      "Mean    : 7.0\n",
      "Variance: 5.833333333333333\n"
     ]
    }
   ],
   "source": [
    "mean=np.mean(output)\n",
    "variance=np.var(output)\n",
    "print (f'Mean    : {mean}\\nVariance: {variance}')"
   ]
  },
  {
   "cell_type": "markdown",
   "id": "a3433338-433a-44c3-8c42-cef564793fef",
   "metadata": {},
   "source": [
    "Variance can be a float since we're diving by n-1. "
   ]
  },
  {
   "cell_type": "markdown",
   "id": "3cdd8d4f-3fe0-4b1c-bb62-c3b016414610",
   "metadata": {},
   "source": [
    "<b> 4. Average of 10 dice rolls. </b>  "
   ]
  },
  {
   "cell_type": "code",
   "execution_count": 11,
   "id": "7e296816-291c-4be2-8799-355f2e22784b",
   "metadata": {},
   "outputs": [],
   "source": [
    "p=P\n",
    "conv_1=distribution\n",
    "conv_2=np.convolve(conv_1,p)\n",
    "conv_3=np.convolve(conv_2,p)\n",
    "conv_4=np.convolve(conv_3,p)\n",
    "conv_5=np.convolve(conv_4,p)\n",
    "conv_6=np.convolve(conv_5,p)\n",
    "conv_7=np.convolve(conv_6,p)\n",
    "conv_8=np.convolve(conv_7,p)\n",
    "conv_9=np.convolve(conv_8,p)\n",
    "    \n"
   ]
  },
  {
   "cell_type": "code",
   "execution_count": 41,
   "id": "9c90596a-ebff-44fd-9782-7f8bab6f0844",
   "metadata": {},
   "outputs": [
    {
     "data": {
      "image/png": "[encoded data removed]",
      "text/plain": [
       "<Figure size 864x288 with 2 Axes>"
      ]
     },
     "metadata": {
      "needs_background": "light"
     },
     "output_type": "display_data"
    }
   ],
   "source": [
    "fig,(ax,ax1)=plt.subplots(1,2,figsize=(12,4))\n",
    "n=10\n",
    "x=np.linspace(n,n*6,n*5+1)/n   #rescaling \n",
    "ax.plot(x,conv_9,\"o\",ms=6)\n",
    "ax1.plot(x,conv_9,\"o\",ms=6)\n",
    "ax1.set_yscale(\"log\")\n",
    "plt.tight_layout()"
   ]
  },
  {
   "cell_type": "markdown",
   "id": "66b73aac-0fd7-42fb-acad-0ea56869075c",
   "metadata": {},
   "source": [
    "No. This is not a gaussian. It looks like one because of Central Limit Theorem. "
   ]
  },
  {
   "cell_type": "markdown",
   "id": "d1bec89f-6d37-4f22-a408-d1092b3b5f65",
   "metadata": {},
   "source": [
    "<b>5. Sum of Gaussian </b>\n"
   ]
  },
  {
   "cell_type": "code",
   "execution_count": null,
   "id": "3df17972-accc-47f3-804c-bd5ee58d3822",
   "metadata": {},
   "outputs": [],
   "source": [
    "fig, ax,ax1,ax2 = plt.subplots(1,3)\n",
    "d = stats.norm.rvs(loc = 3.0, scale = .01, size = 100000)\n",
    "d_5= d*5\n",
    "d_20=d*20\n",
    "d_h=d/4\n",
    "ax.hist(d,50, alpha=0.5,color=\"r\", density=True)\n",
    "ax.hist(d_5,50,alpha=0.5, density=True)\n",
    "ax.hist(d_20,50,alpha=0.5,color=\"b\", density=True)\n",
    "ax.hist(d_h,50,alpha=0.5,c=\"m\",density=True)\n",
    "ax.set_xlim([2.95,3.05])\n",
    "x = np.linspace(2.95,3.05,1000)"
   ]
  },
  {
   "cell_type": "code",
   "execution_count": null,
   "id": "0d969e11-9f62-40f9-9af8-e1d60beb95f9",
   "metadata": {},
   "outputs": [],
   "source": [
    "plt.hist(d_20,50, density=True)"
   ]
  },
  {
   "cell_type": "code",
   "execution_count": null,
   "id": "df4da773-6afd-4ae2-9f33-baf677e0c988",
   "metadata": {},
   "outputs": [],
   "source": []
  },
  {
   "cell_type": "code",
   "execution_count": null,
   "id": "bfdd232b-bb09-4592-af1b-a303c4d4870c",
   "metadata": {},
   "outputs": [],
   "source": []
  }
 ],
 "metadata": {
  "kernelspec": {
   "display_name": "Python 3",
   "language": "python",
   "name": "python3"
  },
  "language_info": {
   "codemirror_mode": {
    "name": "ipython",
    "version": 3
   },
   "file_extension": ".py",
   "mimetype": "text/x-python",
   "name": "python",
   "nbconvert_exporter": "python",
   "pygments_lexer": "ipython3",
   "version": "3.8.8"
  }
 },
 "nbformat": 4,
 "nbformat_minor": 5
}
